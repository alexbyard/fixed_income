{
 "cells": [
  {
   "cell_type": "markdown",
   "metadata": {},
   "source": [
    "# The Yield Curve and Discount Rates\n",
    "\n",
    "### Alexander Byard"
   ]
  },
  {
   "cell_type": "code",
   "execution_count": 2,
   "metadata": {},
   "outputs": [],
   "source": [
    "import pandas as pd\n",
    "import numpy as np\n",
    "import datetime\n",
    "import warnings\n",
    "warnings.filterwarnings('ignore', category=FutureWarning)\n",
    "from sklearn.linear_model import LinearRegression\n",
    "from scipy.optimize import minimize\n",
    "import matplotlib.pyplot as plt\n",
    "%matplotlib inline \n",
    "plt.rcParams['figure.figsize'] = (12, 6)\n",
    "plt.rcParams['font.size'] = 15\n",
    "plt.rcParams['legend.fontsize'] = 13\n",
    "import sys\n",
    "sys.path.insert(0, '../')\n",
    "from cmds.treasury import *"
   ]
  },
  {
   "cell_type": "markdown",
   "metadata": {},
   "source": [
    "## Data\n",
    "\n",
    "We obtain data from the CRSP Treasury Monthly Release via WRDS. Using this, we can obtain quotes for nearly every issued treasury for any given date. In paricular, we are interested in Bills, Notes, Bonds, and TIPS. We exclude TIPS below to focus on nominal rates, and the data does not include Floating Rate Notes (FRNs)."
   ]
  },
  {
   "cell_type": "code",
   "execution_count": 5,
   "metadata": {},
   "outputs": [],
   "source": [
    "QUOTE_DATE = '2023-11-30'\n",
    "\n",
    "filepath_rawdata = f'../data/treasury_quotes_{QUOTE_DATE}.xlsx'\n",
    "rawdata = pd.read_excel(filepath_rawdata, sheet_name='quotes')\n",
    "rawdata.columns = rawdata.columns.str.upper()\n",
    "rawdata.sort_values('TMATDT', inplace=True)\n",
    "rawdata.set_index('KYTREASNO', inplace=True)"
   ]
  }
 ],
 "metadata": {
  "kernelspec": {
   "display_name": "crypto",
   "language": "python",
   "name": "python3"
  },
  "language_info": {
   "codemirror_mode": {
    "name": "ipython",
    "version": 3
   },
   "file_extension": ".py",
   "mimetype": "text/x-python",
   "name": "python",
   "nbconvert_exporter": "python",
   "pygments_lexer": "ipython3",
   "version": "3.11.5"
  }
 },
 "nbformat": 4,
 "nbformat_minor": 2
}
